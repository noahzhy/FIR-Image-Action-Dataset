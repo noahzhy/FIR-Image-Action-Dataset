{
 "cells": [
  {
   "cell_type": "code",
   "execution_count": null,
   "metadata": {
    "tags": []
   },
   "outputs": [],
   "source": [
    "##########################################\n",
    "# MLX90640 Thermal Camera @ Raspberry Pi #\n",
    "##########################################\n",
    "\n",
    "import time, datetime\n",
    "import board\n",
    "import busio\n",
    "import numpy as np\n",
    "import adafruit_mlx90640\n",
    "from IPython import display\n",
    "from  matplotlib import pyplot as plt\n",
    "\n",
    "\n",
    "i2c = busio.I2C(board.SCL, board.SDA, frequency=1000000)\n",
    "mlx = adafruit_mlx90640.MLX90640(i2c)\n",
    "# the refresh should be set for fps * 2\n",
    "mlx.refresh_rate = adafruit_mlx90640.RefreshRate.REFRESH_16_HZ\n",
    "\n",
    "frame = np.zeros(768)\n",
    "\n",
    "# print(local_time)\n",
    "# _start_time = _frame_time = time.time()\n",
    "\n",
    "while True:\n",
    "    try:\n",
    "        local_time = datetime.datetime.now().strftime('%Y-%m-%d %H:%M:%S.%f')[:-2]\n",
    "        # _frame_time = time.time()\n",
    "        mlx.getFrame(frame)\n",
    "    except ValueError as e:\n",
    "        print(e)\n",
    "        continue\n",
    "\n",
    "    res = np.array(frame).reshape((24,32))\n",
    "    res = np.around(res, 2)\n",
    "\n",
    "    # fps = 1 / (time.time() - _frame_time)\n",
    "    # timer = round(time.time() - _start_time, 4)\n",
    "\n",
    "    # print(local_time, 'FPS: {}'.format(round(fps, 1)))\n",
    "    # import matplotlib.pyplot as plt\n",
    "    # plt.title('{:.04f} FPS: {}'.format(timer, round(fps, 1)))\n",
    "    plt.imshow(res)\n",
    "    plt.show()\n",
    "    display.clear_output(wait=True)"
   ]
  },
  {
   "cell_type": "code",
   "execution_count": null,
   "metadata": {},
   "outputs": [],
   "source": [
    "##################################\n",
    "# Camera Model V2 @ Raspberry Pi #\n",
    "##################################\n",
    "\n",
    "import picamera\n",
    "from subprocess import call\n",
    "\n",
    "\n",
    "with picamera.PiCamera() as camera:\n",
    "    camera.resolution = (320, 240)\n",
    "    camera.framerate = 24\n",
    "    camera.start_recording('test.h264')\n",
    "    camera.wait_recording(5)\n",
    "    camera.stop_recording()\n",
    "\n",
    "convert = \"MP4Box -add test.h264 test.mp4\" # defining convert\n",
    "call ([convert], shell=True) # executing convert using call"
   ]
  },
  {
   "cell_type": "code",
   "execution_count": null,
   "metadata": {},
   "outputs": [],
   "source": [
    "##########################################\n",
    "# MLX90640 Thermal Camera w Raspberry Pi #\n",
    "##########################################\n"
   ]
  },
  {
   "cell_type": "code",
   "execution_count": null,
   "metadata": {
    "tags": []
   },
   "outputs": [],
   "source": [
    "######################\n",
    "# Recording the data #\n",
    "######################\n",
    "\n",
    "import pandas as pd\n",
    "import numpy as np\n",
    "import time, datetime\n",
    "\n",
    "header = ['P{:03d}'.format(i) for i in range(768)]\n",
    "\n",
    "df = pd.DataFrame(columns=header)\n",
    "# df.append(, ignore_index=True)\n",
    "# print(df)\n",
    "df.to_csv(\"test.csv\", index=False, header=True)\n"
   ]
  },
  {
   "cell_type": "code",
   "execution_count": null,
   "metadata": {
    "tags": []
   },
   "outputs": [],
   "source": [
    "import Adafruit_DHT\n",
    "\n",
    "\n",
    "sensor = Adafruit_DHT.DHT22\n",
    "gpio = 17\n",
    "humidity, temperature = Adafruit_DHT.read_retry(sensor, gpio)\n",
    "\n",
    "print(round(temperature, 2))\n"
   ]
  },
  {
   "cell_type": "code",
   "execution_count": null,
   "metadata": {
    "tags": []
   },
   "outputs": [],
   "source": [
    "import time\n",
    "from IPython import display\n",
    "\n",
    "_start = time.time()\n",
    "\n",
    "while True:\n",
    "    keep_time = time.time() - _start\n",
    "    print(round(keep_time, 2))\n",
    "    display.clear_output(wait=True)\n",
    "\n"
   ]
  },
  {
   "cell_type": "code",
   "execution_count": 2,
   "metadata": {
    "tags": []
   },
   "outputs": [
    {
     "output_type": "stream",
     "name": "stdout",
     "text": "49 52 49\n"
    }
   ],
   "source": [
    "import glob\n",
    "\n",
    "i = glob.glob('*.mp4')\n",
    "j = glob.glob('*.h264')\n",
    "k = glob.glob('*.csv')\n",
    "print(len(i), len(j), len(k))"
   ]
  },
  {
   "cell_type": "code",
   "execution_count": null,
   "metadata": {},
   "outputs": [],
   "source": []
  }
 ],
 "metadata": {
  "kernelspec": {
   "display_name": "Python 3.7.3 32-bit",
   "language": "python",
   "name": "python37332bitcb06d3b476b642ee8928072a355225cd"
  },
  "language_info": {
   "codemirror_mode": {
    "name": "ipython",
    "version": 3
   },
   "file_extension": ".py",
   "mimetype": "text/x-python",
   "name": "python",
   "nbconvert_exporter": "python",
   "pygments_lexer": "ipython3",
   "version": "3.7.3-final"
  }
 },
 "nbformat": 4,
 "nbformat_minor": 4
}