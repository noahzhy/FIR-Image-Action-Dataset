{
 "cells": [
  {
   "cell_type": "code",
   "execution_count": null,
   "metadata": {
    "tags": []
   },
   "outputs": [],
   "source": [
    "##########################################\n",
    "# MLX90640 Thermal Camera w Raspberry Pi #\n",
    "##########################################\n",
    "\n",
    "import time, datetime\n",
    "import board\n",
    "import busio\n",
    "import numpy as np\n",
    "import adafruit_mlx90640\n",
    "import matplotlib.pyplot as plt\n",
    "from IPython import display\n",
    "\n",
    "\n",
    "i2c = busio.I2C(board.SCL, board.SDA, frequency=800000)\n",
    "mlx = adafruit_mlx90640.MLX90640(i2c)\n",
    "# the refresh should be set for fps * 2\n",
    "mlx.refresh_rate = adafruit_mlx90640.RefreshRate.REFRESH_16_HZ\n",
    "\n",
    "local_time = datetime.datetime.now().strftime('%Y-%m-%d %H:%M:%S')\n",
    "print(local_time)\n",
    "_zero = _start = time.time()\n",
    "\n",
    "frame = np.zeros(768)\n",
    "\n",
    "while True:\n",
    "    try:\n",
    "        _start = time.time()\n",
    "        mlx.getFrame(frame)\n",
    "    except ValueError as e:\n",
    "        print(e)\n",
    "        continue\n",
    "\n",
    "    res = np.array(frame).reshape((24,32))\n",
    "    res = np.around(res, 2)\n",
    "\n",
    "    fps = 1 / (time.time() - _start)\n",
    "    timer = round(time.time() - _zero, 4)\n",
    "\n",
    "    print('{:.04f} FPS: {}'.format(timer, round(fps, 1)))\n",
    "    # plt.title('{:.04f} FPS: {}'.format(timer, round(fps, 1)))\n",
    "    # plt.imshow(res)\n",
    "    # plt.show()\n",
    "    display.clear_output(wait=True)"
   ]
  },
  {
   "cell_type": "code",
   "execution_count": 4,
   "metadata": {},
   "outputs": [
    {
     "output_type": "execute_result",
     "data": {
      "text/plain": "0"
     },
     "metadata": {},
     "execution_count": 4
    }
   ],
   "source": [
    "import picamera\n",
    "from subprocess import call\n",
    "\n",
    "\n",
    "with picamera.PiCamera() as camera:\n",
    "    camera.resolution = (320, 240)\n",
    "    camera.framerate = 24\n",
    "    camera.start_recording('test.h264')\n",
    "    camera.wait_recording(5)\n",
    "    camera.stop_recording()\n",
    "\n",
    "convert = \"MP4Box -add test.h264 test.mp4\" #defining convert\n",
    "call ([convert], shell=True) #executing convert using call"
   ]
  },
  {
   "cell_type": "code",
   "execution_count": null,
   "metadata": {},
   "outputs": [],
   "source": []
  }
 ],
 "metadata": {
  "kernelspec": {
   "display_name": "Python 3.7.3 32-bit",
   "language": "python",
   "name": "python37332bitcb06d3b476b642ee8928072a355225cd"
  },
  "language_info": {
   "codemirror_mode": {
    "name": "ipython",
    "version": 3
   },
   "file_extension": ".py",
   "mimetype": "text/x-python",
   "name": "python",
   "nbconvert_exporter": "python",
   "pygments_lexer": "ipython3",
   "version": "3.7.3-final"
  }
 },
 "nbformat": 4,
 "nbformat_minor": 4
}